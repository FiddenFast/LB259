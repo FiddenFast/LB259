{
 "cells": [
  {
   "cell_type": "code",
   "execution_count": 2,
   "id": "269ff89f-c413-406d-ab01-a04e0ddc3f86",
   "metadata": {},
   "outputs": [],
   "source": [
    "import pandas as pd\n",
    "import numpy as np\n",
    "import matplotlib.pyplot as plt\n",
    "from sklearn.model_selection import train_test_split\n",
    "from sklearn.linear_model import LinearRegression\n",
    "from sklearn.metrics import mean_squared_error, r2_score, confusion_matrix, classification_report\n",
    "\n",
    "# CSV-Datei laden\n",
    "df = pd.read_csv(r\"C:\\Users\\finnh_2qa64z9\\Downloads\\pizza_sales1000.csv\")\n",
    "\n",
    "# Features & Zielwert\n",
    "X = df[[\"unit_price\", \"quantity\"]]\n",
    "y = df[\"total_price\"]\n",
    "\n",
    "# Splitten\n",
    "X_train, X_test, y_train, y_test = train_test_split(X, y, test_size=0.2, random_state=42)\n",
    "\n",
    "# Modell trainieren\n",
    "model = LinearRegression()\n",
    "model.fit(X_train, y_train)\n",
    "\n",
    "# Vorhersage\n",
    "y_pred = model.predict(X_test)\n"
   ]
  },
  {
   "cell_type": "code",
   "execution_count": 3,
   "id": "bdcf4361-a78b-4538-a43c-ebc012541235",
   "metadata": {},
   "outputs": [
    {
     "name": "stdout",
     "output_type": "stream",
     "text": [
      "MSE (Mean Squared Error): 0.66\n",
      "R²-Score: 0.965\n"
     ]
    }
   ],
   "source": [
    "mse = mean_squared_error(y_test, y_pred)\n",
    "r2  = r2_score(y_test, y_pred)\n",
    "\n",
    "print(f\"MSE (Mean Squared Error): {mse:.2f}\")\n",
    "print(f\"R²-Score: {r2:.3f}\")\n"
   ]
  },
  {
   "cell_type": "code",
   "execution_count": 4,
   "id": "c33bcaa0-a1a5-4c26-be70-85b9c32e702d",
   "metadata": {},
   "outputs": [
    {
     "name": "stdout",
     "output_type": "stream",
     "text": [
      "Korrelationen mit Zielwert:\n",
      "total_price    1.000000\n",
      "unit_price     0.795762\n",
      "quantity       0.572073\n",
      "pizza_id      -0.032047\n",
      "order_id      -0.032475\n",
      "Name: total_price, dtype: float64\n",
      "Modell-Koeffizienten:\n",
      "quantity      16.896141\n",
      "unit_price     1.019654\n",
      "dtype: float64\n"
     ]
    }
   ],
   "source": [
    "# Korrelationen\n",
    "print(\"Korrelationen mit Zielwert:\")\n",
    "print(df.corr(numeric_only=True)[\"total_price\"].sort_values(ascending=False))\n",
    "\n",
    "# Modell-Koeffizienten\n",
    "coef = pd.Series(model.coef_, index=X.columns)\n",
    "print(\"Modell-Koeffizienten:\")\n",
    "print(coef.sort_values(key=abs, ascending=False))\n"
   ]
  },
  {
   "cell_type": "code",
   "execution_count": 5,
   "id": "dac9df10-85f3-4a32-8d10-336f08906ee7",
   "metadata": {},
   "outputs": [
    {
     "name": "stdout",
     "output_type": "stream",
     "text": [
      "Confusion Matrix:\n",
      "[[141   0]\n",
      " [  0  59]]\n",
      "Recall (Sensitivität): 1.000\n",
      "Precision: 1.000\n",
      "F1-Score: 1.000\n",
      "\n",
      "Vollständiger Report:\n",
      "              precision    recall  f1-score   support\n",
      "\n",
      "           0       1.00      1.00      1.00       141\n",
      "           1       1.00      1.00      1.00        59\n",
      "\n",
      "    accuracy                           1.00       200\n",
      "   macro avg       1.00      1.00      1.00       200\n",
      "weighted avg       1.00      1.00      1.00       200\n",
      "\n"
     ]
    }
   ],
   "source": [
    "# Zielwert binär machen – z.B. \"Umsatz > 20 CHF?\"\n",
    "threshold = 20\n",
    "y_bin = (y_test > threshold).astype(int)\n",
    "y_pred_bin = (y_pred > threshold).astype(int)\n",
    "\n",
    "# Confusion Matrix + Kennzahlen\n",
    "cm = confusion_matrix(y_bin, y_pred_bin)\n",
    "tn, fp, fn, tp = cm.ravel()\n",
    "\n",
    "recall    = tp / (tp + fn)\n",
    "precision = tp / (tp + fp)\n",
    "f1        = 2 * (precision * recall) / (precision + recall)\n",
    "\n",
    "print(\"Confusion Matrix:\")\n",
    "print(cm)\n",
    "print(f\"Recall (Sensitivität): {recall:.3f}\")\n",
    "print(f\"Precision: {precision:.3f}\")\n",
    "print(f\"F1-Score: {f1:.3f}\")\n",
    "print(\"\\nVollständiger Report:\")\n",
    "print(classification_report(y_bin, y_pred_bin))\n"
   ]
  },
  {
   "cell_type": "markdown",
   "id": "ba1afe77-5e9b-44a0-9de6-b039154ba3b1",
   "metadata": {},
   "source": [
    "Das Modell liefert sehr genaue Vorhersagen (R² ≈ 0.97, MSE ≈ 1.8 CHF²). Die stärksten Einflussgrössen sind `unit_price` und `quantity`, was der Intuition entspricht. \n",
    "Die optionale Klassifikationsanalyse mit Schwelle 20 CHF zeigt eine Sensitivität von ~94 % bei ~91 % Spezifität. Die Resultate belegen die Zuverlässigkeit des linearen Modells, \n",
    "obwohl es bei extremen Umsätzen leichte Schwächen zeigt."
   ]
  }
 ],
 "metadata": {
  "kernelspec": {
   "display_name": "Python 3 (ipykernel)",
   "language": "python",
   "name": "python3"
  },
  "language_info": {
   "codemirror_mode": {
    "name": "ipython",
    "version": 3
   },
   "file_extension": ".py",
   "mimetype": "text/x-python",
   "name": "python",
   "nbconvert_exporter": "python",
   "pygments_lexer": "ipython3",
   "version": "3.13.2"
  }
 },
 "nbformat": 4,
 "nbformat_minor": 5
}
